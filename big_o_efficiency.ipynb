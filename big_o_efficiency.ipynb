{
 "cells": [
  {
   "cell_type": "code",
   "execution_count": null,
   "metadata": {},
   "outputs": [],
   "source": [
    "pip install matplotlib scipy numpy\n"
   ]
  },
  {
   "cell_type": "code",
   "execution_count": null,
   "metadata": {},
   "outputs": [],
   "source": [
    "# Comparison computacional complexity\n",
    "import matplotlib.pyplot as plt\n",
    "from scipy.special import gamma\n",
    "import math\n",
    "import numpy as np\n",
    "n = np.linspace(1, 101, 100)\n",
    "O1 = gamma(n)\n",
    "O2 = 2**n\n",
    "O3 = n**2\n",
    "O4 = n*np.log(n) / np.log(2)\n",
    "O5 = n\n",
    "O6 = np.sqrt(n)\n",
    "O7 = np.log(n) / np.log(2)\n",
    "plt.plot(n, O1, '--k', label='n!')\n",
    "plt.plot(n, O2, '--r', label='2^n')\n",
    "plt.plot(n, O3, '--g', label='n^2')\n",
    "plt.plot(n, O4, 'y', label='nlog(n)')\n",
    "plt.plot(n, O5, 'c', label='n')\n",
    "plt.plot(n, O6, '--m', label='sqrt(n)')\n",
    "plt.plot(n, O7, 'b', label='log(n)')\n",
    "axes = plt.gca()\n",
    "axes.set(xlim=(0, 100), ylim=(0, 100))\n",
    "leg = axes.legend()\n",
    "plt.show()"
   ]
  },
  {
   "cell_type": "code",
   "execution_count": null,
   "metadata": {},
   "outputs": [],
   "source": [
    "#O(N!)\n",
    "#This is the Heap's algorithm, which is used for generations all possible permutation of n objects\n",
    "#Another example could be the Traveling Salesman Problem \n",
    "%time\n",
    "\n",
    "data = [1, 2]\n",
    "def Permutation(data, n):\n",
    "    if n == 1:\n",
    "        print(data)\n",
    "        return\n",
    "    \n",
    "    for i in range(n):\n",
    "        Permutation(data, n - 1)\n",
    "        if n % 2 == 0:\n",
    "            data[i], data[n - 1] = data[n-1], data[i]\n",
    "        else:\n",
    "            data[0], data[n-1] = data[n-1], data[0]\n",
    "\n",
    "\n",
    "Permutation(data, len(data))\n"
   ]
  },
  {
   "cell_type": "code",
   "execution_count": null,
   "metadata": {},
   "outputs": [],
   "source": [
    "# O(2^n)\n",
    "#Recursivve calculation of Fibonacci numbers\n",
    "%time\n",
    "\n",
    "def fibonacci(n):\n",
    "    if n <= 1:\n",
    "        return n\n",
    "    return fibonacci(n-1) + fibonacci(n-2)\n",
    "\n",
    "print(fibonacci(30))"
   ]
  },
  {
   "cell_type": "code",
   "execution_count": null,
   "metadata": {},
   "outputs": [],
   "source": [
    "#O(N^2)\n",
    "# Print pair of number in the data\n",
    "%time\n",
    "def print_pair(some_list):\n",
    "    for i in some_list:\n",
    "        for j in some_list:\n",
    "            print(f\"items: {i}, {j}\")\n",
    "\n",
    "print_pair([1,2,3,4])"
   ]
  },
  {
   "cell_type": "code",
   "execution_count": null,
   "metadata": {},
   "outputs": [],
   "source": [
    "# O(n.log(n))\n",
    "# Merge sort algorithm\n",
    "%time\n",
    "data = [9, 0, 8, 6, 2, 5, 7, 3, 4, 1]\n",
    "\n",
    "def merge_sort(data):\n",
    "    if len(data) <= 1:\n",
    "        return\n",
    "\n",
    "    mid = len(data) // 2\n",
    "    left_data = data[:mid]\n",
    "    right_data = data[mid:]\n",
    "\n",
    "    merge_sort(left_data)\n",
    "    merge_sort(right_data)\n",
    "\n",
    "    left_index = 0\n",
    "    right_index = 0\n",
    "    data_index = 0\n",
    "\n",
    "    while left_index < len(left_data) and right_index < len(right_data):\n",
    "\n",
    "        if left_data[left_index] < right_data[right_index]:\n",
    "            data[data_index] = left_data[left_index]\n",
    "            left_index += 1\n",
    "\n",
    "        else:\n",
    "            data[data_index] = right_data[right_index]\n",
    "            right_index += 1\n",
    "        data_index += 1\n",
    "\n",
    "    if left_index < len(left_data):\n",
    "        del data[data_index:]\n",
    "        data += left_data[left_index:]\n",
    "\n",
    "    elif right_index < len(right_data):\n",
    "        del data[data_index:]\n",
    "        data += right_data[right_index:]\n",
    "\n",
    "\n",
    "\n",
    "merge_sort(data)\n",
    "print(data)\n"
   ]
  },
  {
   "cell_type": "code",
   "execution_count": null,
   "metadata": {},
   "outputs": [],
   "source": [
    "#O(n)\n",
    "# Just print some itens\n",
    "%time\n",
    "\n",
    "data = [1, 2, 3, 4, 5, 6, 7, 8, 9, 10]\n",
    "def print_item(data):\n",
    "    for i in data:\n",
    "        print(i)\n",
    "\n",
    "\n",
    "print_item(data)"
   ]
  },
  {
   "cell_type": "code",
   "execution_count": null,
   "metadata": {},
   "outputs": [],
   "source": [
    "# O(n)\n",
    "# Linear search\n",
    "data = [1, 3, 7, 4, 5, 9, 0, 11]\n",
    "\n",
    "%time\n",
    "def linear_search(data, value):\n",
    "    for index in range(len(data)):\n",
    "        if value == data[index]:\n",
    "            return index\n",
    "    raise ValueError('Value not found in the list')\n",
    "\n",
    "\n",
    "\n",
    "print(linear_search(data, 9))"
   ]
  },
  {
   "cell_type": "code",
   "execution_count": null,
   "metadata": {},
   "outputs": [],
   "source": [
    "#O(log(n))\n",
    "# This algorithms with logarithmic time complexity are commonly found on binary trees\n",
    "%time\n",
    "\n",
    "data = [1, 2, 3, 4, 5, 6, 7, 8, 9]\n",
    "\n",
    "for idx in range (0, len(data), 3):\n",
    "    print(data[idx])\n",
    "\n",
    "\n",
    "#Binary search\n",
    "def binary_search(data, value):\n",
    "    n = len(data)\n",
    "    left = 0\n",
    "    right = n - 1\n",
    "    while left <= right:\n",
    "        middle = (left + right) // 2\n",
    "        if value < data[middle]:\n",
    "            right = middle - 1\n",
    "        elif value > data[middle]:\n",
    "            left = middle + 1\n",
    "        else:\n",
    "            return middle\n",
    "        \n",
    "\n",
    "    raise ValueError('Value is not in the list')\n",
    "\n",
    "print(binary_search(data,8))\n"
   ]
  },
  {
   "cell_type": "code",
   "execution_count": null,
   "metadata": {},
   "outputs": [],
   "source": [
    "# O (0n+1)\n",
    "%time\n",
    "\n",
    "data = [0,1,2,3,4,5,6,7,8,9,10]\n",
    "\n",
    "def first_idx(data):\n",
    "    return data[0]\n",
    "\n",
    "print(first_idx(data))"
   ]
  }
 ],
 "metadata": {
  "kernelspec": {
   "display_name": "Python 3",
   "language": "python",
   "name": "python3"
  },
  "language_info": {
   "codemirror_mode": {
    "name": "ipython",
    "version": 3
   },
   "file_extension": ".py",
   "mimetype": "text/x-python",
   "name": "python",
   "nbconvert_exporter": "python",
   "pygments_lexer": "ipython3",
   "version": "3.10.9"
  },
  "orig_nbformat": 4,
  "vscode": {
   "interpreter": {
    "hash": "e7370f93d1d0cde622a1f8e1c04877d8463912d04d973331ad4851f04de6915a"
   }
  }
 },
 "nbformat": 4,
 "nbformat_minor": 2
}
